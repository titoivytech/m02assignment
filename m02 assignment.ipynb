{
 "cells": [
  {
   "cell_type": "code",
   "execution_count": null,
   "id": "62ca982f",
   "metadata": {},
   "outputs": [],
   "source": [
    "secret = 7\n",
    "guess = 5\n",
    "\n",
    "# Conditional tests\n",
    "if guess < secret:\n",
    "    print(\"Too low\")\n",
    "elif guess > secret:\n",
    "    print(\"Too high\")\n",
    "else:\n",
    "    print(\"Just right\")"
   ]
  },
  {
   "cell_type": "code",
   "execution_count": null,
   "id": "a2dbe856",
   "metadata": {},
   "outputs": [],
   "source": [
    "small = True\n",
    "green = True\n",
    "\n",
    "# Matching choices\n",
    "if small and green:\n",
    "    print(\"This matches: pea\")\n",
    "elif small and not green:\n",
    "    print(\"This matches: cherry\")\n",
    "elif not small and green:\n",
    "    print(\"This matches: watermelon\")\n",
    "elif not small and not green:\n",
    "    print(\"This matches: pumpkin\")"
   ]
  },
  {
   "cell_type": "code",
   "execution_count": null,
   "id": "c4da059c",
   "metadata": {},
   "outputs": [],
   "source": [
    "list = [3, 2, 1, 0]\n",
    "\n",
    "# For loop to print each value\n",
    "for value in list:\n",
    "    print(value)\n"
   ]
  },
  {
   "cell_type": "code",
   "execution_count": null,
   "id": "ac172e0c",
   "metadata": {},
   "outputs": [],
   "source": [
    "guess_me = 7\n",
    "number = 1\n",
    "\n",
    "# While loop\n",
    "while number <= guess_me:\n",
    "    if number < guess_me:\n",
    "        print(\"Too low\")\n",
    "    elif number == guess_me:\n",
    "        print(\"Found it!\"\")\n",
    "        break  # exit the loop when the number is found\n",
    "    else:\n",
    "        print(\"Oops\")\n",
    "        break  # exit the loop when the number is greater than guess_me\n",
    "\n",
    "    # Increment number at the end of the loop\n",
    "    number += 1"
   ]
  },
  {
   "cell_type": "code",
   "execution_count": null,
   "id": "fb60431e",
   "metadata": {},
   "outputs": [],
   "source": [
    "guess_me = 5\n",
    "\n",
    "# For loop\n",
    "for number in range(10):\n",
    "    if number < guess_me:\n",
    "        print(\"Too low\")\n",
    "    elif number == guess_me:\n",
    "        print(\"Found it!)\n",
    "        break  # exit the loop when the number is found\n",
    "    else:\n",
    "        print(\"Oops\")\n",
    "        break  # exit the loop when the number is greater than guess_me\n"
   ]
  }
 ],
 "metadata": {
  "kernelspec": {
   "display_name": "Python 3 (ipykernel)",
   "language": "python",
   "name": "python3"
  },
  "language_info": {
   "codemirror_mode": {
    "name": "ipython",
    "version": 3
   },
   "file_extension": ".py",
   "mimetype": "text/x-python",
   "name": "python",
   "nbconvert_exporter": "python",
   "pygments_lexer": "ipython3",
   "version": "3.11.5"
  }
 },
 "nbformat": 4,
 "nbformat_minor": 5
}
